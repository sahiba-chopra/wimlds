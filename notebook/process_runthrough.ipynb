{
 "cells": [
  {
   "cell_type": "markdown",
   "metadata": {},
   "source": [
    "# Welcome to WiMLDS!"
   ]
  },
  {
   "cell_type": "markdown",
   "metadata": {},
   "source": [
    "## About me  🙋\n",
    "\n",
    "###  💰 Lead Data Scientist at Happy Financial Services - ArthImpact FinServe. \n",
    "   - **Micro-lending NBFC** that gives loans to small business owners that lack access to mainstream banking. We're all about     financial inclusion and aim to reach the 6 million Indian that are currently financially marginalised. \n",
    "   - Disbursed 21,000 loans amounting to ₹47 Cr and aim to disburse **35,000 loans by the end of Dec 2018.**\n",
    "   - Build ML models to **reduce default rate** while **increasing acceptance rate.**\n",
    "    \n",
    "### 🌞 Renewable Energy:\n",
    "   - **Proactive failure detection** in solar power plant inverter\n",
    "   - **Wind power predictions** at a daily, weekly, monthly interval\n",
    "   - Marketing analytics: \n",
    "    - **Gartner ranking:** Top 10 ML startups to watch out for\n",
    "    - Increased social media interaction by **200%**\n",
    "    \n",
    "### 📺 Entertainment:\n",
    "   - Prepare edge servers to receive valid data from **100,000+ users**\n",
    "    \n",
    "### 😍 Other interests:\n",
    "   - Behavioral Science\n",
    "   - Development Econ\n",
    "   - Kbeauty\n"
   ]
  },
  {
   "cell_type": "markdown",
   "metadata": {},
   "source": [
    "# How do you build a Data Science project? 🤔\n",
    "\n",
    "*   **Step 1:** Load packages\n",
    "*   **Step 2:** Loan & explore the data\n",
    "*   **Step 3:** Preprocess data & split into train & validation sets\n",
    "*   **Step 4:** Build the models\n",
    "*   **Step 5:** Pick the *best* model"
   ]
  },
  {
   "cell_type": "markdown",
   "metadata": {},
   "source": [
    "## Step 1: Load packages 📚"
   ]
  },
  {
   "cell_type": "code",
   "execution_count": 1,
   "metadata": {},
   "outputs": [
    {
     "name": "stderr",
     "output_type": "stream",
     "text": [
      "/home/sahibachopra/miniconda/envs/ai/lib/python3.6/site-packages/sklearn/ensemble/weight_boosting.py:29: DeprecationWarning: numpy.core.umath_tests is an internal NumPy module and should not be imported. It will be removed in a future NumPy release.\n",
      "  from numpy.core.umath_tests import inner1d\n"
     ]
    }
   ],
   "source": [
    "import pandas as pd\n",
    "import numpy as np\n",
    "from scipy.stats import trim_mean, kurtosis\n",
    "from scipy.stats.mstats import mode, gmean, hmean\n",
    "from sklearn.model_selection import train_test_split, GridSearchCV\n",
    "from sklearn.pipeline import make_pipeline, FeatureUnion, Pipeline, make_union\n",
    "import matplotlib.pyplot as plt\n",
    "import seaborn as sns\n",
    "from sklearn.linear_model import LogisticRegression\n",
    "from sklearn.ensemble import RandomForestClassifier\n",
    "from sklearn.base import BaseEstimator, TransformerMixin\n",
    "from sklearn.preprocessing import OneHotEncoder, LabelEncoder"
   ]
  },
  {
   "cell_type": "markdown",
   "metadata": {},
   "source": [
    "## Step 2: Load & explore the data 📊\n",
    "- [German Loans Data from UCL Repository](https://archive.ics.uci.edu/ml/datasets/statlog+(german+credit+data)"
   ]
  },
  {
   "cell_type": "code",
   "execution_count": 2,
   "metadata": {},
   "outputs": [],
   "source": [
    "credit_data = pd.read_csv('/home/sahibachopra/wimlds/data/german_data.csv')"
   ]
  },
  {
   "cell_type": "markdown",
   "metadata": {},
   "source": [
    "### Let's take a look at the data\n",
    "- We have some continuous variables:\n",
    "    - Credit amount\n",
    "    - Age\n",
    "    - Duration of Credit (month)\n",
    "- The rest are categorical"
   ]
  },
  {
   "cell_type": "code",
   "execution_count": 3,
   "metadata": {},
   "outputs": [
    {
     "data": {
      "text/html": [
       "<div>\n",
       "<style scoped>\n",
       "    .dataframe tbody tr th:only-of-type {\n",
       "        vertical-align: middle;\n",
       "    }\n",
       "\n",
       "    .dataframe tbody tr th {\n",
       "        vertical-align: top;\n",
       "    }\n",
       "\n",
       "    .dataframe thead th {\n",
       "        text-align: right;\n",
       "    }\n",
       "</style>\n",
       "<table border=\"1\" class=\"dataframe\">\n",
       "  <thead>\n",
       "    <tr style=\"text-align: right;\">\n",
       "      <th></th>\n",
       "      <th>count</th>\n",
       "      <th>mean</th>\n",
       "      <th>std</th>\n",
       "      <th>min</th>\n",
       "      <th>25%</th>\n",
       "      <th>50%</th>\n",
       "      <th>75%</th>\n",
       "      <th>max</th>\n",
       "    </tr>\n",
       "  </thead>\n",
       "  <tbody>\n",
       "    <tr>\n",
       "      <th>Creditability</th>\n",
       "      <td>1000.0</td>\n",
       "      <td>0.700</td>\n",
       "      <td>0.458487</td>\n",
       "      <td>0.0</td>\n",
       "      <td>0.0</td>\n",
       "      <td>1.0</td>\n",
       "      <td>1.00</td>\n",
       "      <td>1.0</td>\n",
       "    </tr>\n",
       "    <tr>\n",
       "      <th>Account Balance</th>\n",
       "      <td>1000.0</td>\n",
       "      <td>2.577</td>\n",
       "      <td>1.257638</td>\n",
       "      <td>1.0</td>\n",
       "      <td>1.0</td>\n",
       "      <td>2.0</td>\n",
       "      <td>4.00</td>\n",
       "      <td>4.0</td>\n",
       "    </tr>\n",
       "    <tr>\n",
       "      <th>Duration of Credit (month)</th>\n",
       "      <td>1000.0</td>\n",
       "      <td>20.903</td>\n",
       "      <td>12.058814</td>\n",
       "      <td>4.0</td>\n",
       "      <td>12.0</td>\n",
       "      <td>18.0</td>\n",
       "      <td>24.00</td>\n",
       "      <td>72.0</td>\n",
       "    </tr>\n",
       "    <tr>\n",
       "      <th>Payment Status of Previous Credit</th>\n",
       "      <td>1000.0</td>\n",
       "      <td>2.545</td>\n",
       "      <td>1.083120</td>\n",
       "      <td>0.0</td>\n",
       "      <td>2.0</td>\n",
       "      <td>2.0</td>\n",
       "      <td>4.00</td>\n",
       "      <td>4.0</td>\n",
       "    </tr>\n",
       "    <tr>\n",
       "      <th>Purpose</th>\n",
       "      <td>1000.0</td>\n",
       "      <td>2.828</td>\n",
       "      <td>2.744439</td>\n",
       "      <td>0.0</td>\n",
       "      <td>1.0</td>\n",
       "      <td>2.0</td>\n",
       "      <td>3.00</td>\n",
       "      <td>10.0</td>\n",
       "    </tr>\n",
       "    <tr>\n",
       "      <th>Credit Amount</th>\n",
       "      <td>1000.0</td>\n",
       "      <td>3271.248</td>\n",
       "      <td>2822.751760</td>\n",
       "      <td>250.0</td>\n",
       "      <td>1365.5</td>\n",
       "      <td>2319.5</td>\n",
       "      <td>3972.25</td>\n",
       "      <td>18424.0</td>\n",
       "    </tr>\n",
       "    <tr>\n",
       "      <th>Value Savings/Stocks</th>\n",
       "      <td>1000.0</td>\n",
       "      <td>2.105</td>\n",
       "      <td>1.580023</td>\n",
       "      <td>1.0</td>\n",
       "      <td>1.0</td>\n",
       "      <td>1.0</td>\n",
       "      <td>3.00</td>\n",
       "      <td>5.0</td>\n",
       "    </tr>\n",
       "    <tr>\n",
       "      <th>Length of current employment</th>\n",
       "      <td>1000.0</td>\n",
       "      <td>3.384</td>\n",
       "      <td>1.208306</td>\n",
       "      <td>1.0</td>\n",
       "      <td>3.0</td>\n",
       "      <td>3.0</td>\n",
       "      <td>5.00</td>\n",
       "      <td>5.0</td>\n",
       "    </tr>\n",
       "    <tr>\n",
       "      <th>Instalment per cent</th>\n",
       "      <td>1000.0</td>\n",
       "      <td>2.973</td>\n",
       "      <td>1.118715</td>\n",
       "      <td>1.0</td>\n",
       "      <td>2.0</td>\n",
       "      <td>3.0</td>\n",
       "      <td>4.00</td>\n",
       "      <td>4.0</td>\n",
       "    </tr>\n",
       "    <tr>\n",
       "      <th>Sex &amp; Marital Status</th>\n",
       "      <td>1000.0</td>\n",
       "      <td>2.682</td>\n",
       "      <td>0.708080</td>\n",
       "      <td>1.0</td>\n",
       "      <td>2.0</td>\n",
       "      <td>3.0</td>\n",
       "      <td>3.00</td>\n",
       "      <td>4.0</td>\n",
       "    </tr>\n",
       "    <tr>\n",
       "      <th>Guarantors</th>\n",
       "      <td>1000.0</td>\n",
       "      <td>1.145</td>\n",
       "      <td>0.477706</td>\n",
       "      <td>1.0</td>\n",
       "      <td>1.0</td>\n",
       "      <td>1.0</td>\n",
       "      <td>1.00</td>\n",
       "      <td>3.0</td>\n",
       "    </tr>\n",
       "    <tr>\n",
       "      <th>Duration in Current address</th>\n",
       "      <td>1000.0</td>\n",
       "      <td>2.845</td>\n",
       "      <td>1.103718</td>\n",
       "      <td>1.0</td>\n",
       "      <td>2.0</td>\n",
       "      <td>3.0</td>\n",
       "      <td>4.00</td>\n",
       "      <td>4.0</td>\n",
       "    </tr>\n",
       "    <tr>\n",
       "      <th>Most valuable available asset</th>\n",
       "      <td>1000.0</td>\n",
       "      <td>2.358</td>\n",
       "      <td>1.050209</td>\n",
       "      <td>1.0</td>\n",
       "      <td>1.0</td>\n",
       "      <td>2.0</td>\n",
       "      <td>3.00</td>\n",
       "      <td>4.0</td>\n",
       "    </tr>\n",
       "    <tr>\n",
       "      <th>Age (years)</th>\n",
       "      <td>1000.0</td>\n",
       "      <td>35.542</td>\n",
       "      <td>11.352670</td>\n",
       "      <td>19.0</td>\n",
       "      <td>27.0</td>\n",
       "      <td>33.0</td>\n",
       "      <td>42.00</td>\n",
       "      <td>75.0</td>\n",
       "    </tr>\n",
       "    <tr>\n",
       "      <th>Concurrent Credits</th>\n",
       "      <td>1000.0</td>\n",
       "      <td>2.675</td>\n",
       "      <td>0.705601</td>\n",
       "      <td>1.0</td>\n",
       "      <td>3.0</td>\n",
       "      <td>3.0</td>\n",
       "      <td>3.00</td>\n",
       "      <td>3.0</td>\n",
       "    </tr>\n",
       "    <tr>\n",
       "      <th>Type of apartment</th>\n",
       "      <td>1000.0</td>\n",
       "      <td>1.928</td>\n",
       "      <td>0.530186</td>\n",
       "      <td>1.0</td>\n",
       "      <td>2.0</td>\n",
       "      <td>2.0</td>\n",
       "      <td>2.00</td>\n",
       "      <td>3.0</td>\n",
       "    </tr>\n",
       "    <tr>\n",
       "      <th>No of Credits at this Bank</th>\n",
       "      <td>1000.0</td>\n",
       "      <td>1.407</td>\n",
       "      <td>0.577654</td>\n",
       "      <td>1.0</td>\n",
       "      <td>1.0</td>\n",
       "      <td>1.0</td>\n",
       "      <td>2.00</td>\n",
       "      <td>4.0</td>\n",
       "    </tr>\n",
       "    <tr>\n",
       "      <th>Occupation</th>\n",
       "      <td>1000.0</td>\n",
       "      <td>2.904</td>\n",
       "      <td>0.653614</td>\n",
       "      <td>1.0</td>\n",
       "      <td>3.0</td>\n",
       "      <td>3.0</td>\n",
       "      <td>3.00</td>\n",
       "      <td>4.0</td>\n",
       "    </tr>\n",
       "    <tr>\n",
       "      <th>No of dependents</th>\n",
       "      <td>1000.0</td>\n",
       "      <td>1.155</td>\n",
       "      <td>0.362086</td>\n",
       "      <td>1.0</td>\n",
       "      <td>1.0</td>\n",
       "      <td>1.0</td>\n",
       "      <td>1.00</td>\n",
       "      <td>2.0</td>\n",
       "    </tr>\n",
       "    <tr>\n",
       "      <th>Telephone</th>\n",
       "      <td>1000.0</td>\n",
       "      <td>1.404</td>\n",
       "      <td>0.490943</td>\n",
       "      <td>1.0</td>\n",
       "      <td>1.0</td>\n",
       "      <td>1.0</td>\n",
       "      <td>2.00</td>\n",
       "      <td>2.0</td>\n",
       "    </tr>\n",
       "    <tr>\n",
       "      <th>Foreign Worker</th>\n",
       "      <td>1000.0</td>\n",
       "      <td>1.037</td>\n",
       "      <td>0.188856</td>\n",
       "      <td>1.0</td>\n",
       "      <td>1.0</td>\n",
       "      <td>1.0</td>\n",
       "      <td>1.00</td>\n",
       "      <td>2.0</td>\n",
       "    </tr>\n",
       "  </tbody>\n",
       "</table>\n",
       "</div>"
      ],
      "text/plain": [
       "                                    count      mean          std    min  \\\n",
       "Creditability                      1000.0     0.700     0.458487    0.0   \n",
       "Account Balance                    1000.0     2.577     1.257638    1.0   \n",
       "Duration of Credit (month)         1000.0    20.903    12.058814    4.0   \n",
       "Payment Status of Previous Credit  1000.0     2.545     1.083120    0.0   \n",
       "Purpose                            1000.0     2.828     2.744439    0.0   \n",
       "Credit Amount                      1000.0  3271.248  2822.751760  250.0   \n",
       "Value Savings/Stocks               1000.0     2.105     1.580023    1.0   \n",
       "Length of current employment       1000.0     3.384     1.208306    1.0   \n",
       "Instalment per cent                1000.0     2.973     1.118715    1.0   \n",
       "Sex & Marital Status               1000.0     2.682     0.708080    1.0   \n",
       "Guarantors                         1000.0     1.145     0.477706    1.0   \n",
       "Duration in Current address        1000.0     2.845     1.103718    1.0   \n",
       "Most valuable available asset      1000.0     2.358     1.050209    1.0   \n",
       "Age (years)                        1000.0    35.542    11.352670   19.0   \n",
       "Concurrent Credits                 1000.0     2.675     0.705601    1.0   \n",
       "Type of apartment                  1000.0     1.928     0.530186    1.0   \n",
       "No of Credits at this Bank         1000.0     1.407     0.577654    1.0   \n",
       "Occupation                         1000.0     2.904     0.653614    1.0   \n",
       "No of dependents                   1000.0     1.155     0.362086    1.0   \n",
       "Telephone                          1000.0     1.404     0.490943    1.0   \n",
       "Foreign Worker                     1000.0     1.037     0.188856    1.0   \n",
       "\n",
       "                                      25%     50%      75%      max  \n",
       "Creditability                         0.0     1.0     1.00      1.0  \n",
       "Account Balance                       1.0     2.0     4.00      4.0  \n",
       "Duration of Credit (month)           12.0    18.0    24.00     72.0  \n",
       "Payment Status of Previous Credit     2.0     2.0     4.00      4.0  \n",
       "Purpose                               1.0     2.0     3.00     10.0  \n",
       "Credit Amount                      1365.5  2319.5  3972.25  18424.0  \n",
       "Value Savings/Stocks                  1.0     1.0     3.00      5.0  \n",
       "Length of current employment          3.0     3.0     5.00      5.0  \n",
       "Instalment per cent                   2.0     3.0     4.00      4.0  \n",
       "Sex & Marital Status                  2.0     3.0     3.00      4.0  \n",
       "Guarantors                            1.0     1.0     1.00      3.0  \n",
       "Duration in Current address           2.0     3.0     4.00      4.0  \n",
       "Most valuable available asset         1.0     2.0     3.00      4.0  \n",
       "Age (years)                          27.0    33.0    42.00     75.0  \n",
       "Concurrent Credits                    3.0     3.0     3.00      3.0  \n",
       "Type of apartment                     2.0     2.0     2.00      3.0  \n",
       "No of Credits at this Bank            1.0     1.0     2.00      4.0  \n",
       "Occupation                            3.0     3.0     3.00      4.0  \n",
       "No of dependents                      1.0     1.0     1.00      2.0  \n",
       "Telephone                             1.0     1.0     2.00      2.0  \n",
       "Foreign Worker                        1.0     1.0     1.00      2.0  "
      ]
     },
     "execution_count": 3,
     "metadata": {},
     "output_type": "execute_result"
    }
   ],
   "source": [
    "credit_data.describe(include=\"all\").transpose()"
   ]
  },
  {
   "cell_type": "markdown",
   "metadata": {},
   "source": [
    "### Always good to check the structure of the variables\n",
    "- All integers (numeric) in this dataset\n",
    "- Need all types to be numeric to run a model"
   ]
  },
  {
   "cell_type": "code",
   "execution_count": 4,
   "metadata": {},
   "outputs": [
    {
     "data": {
      "text/plain": [
       "Creditability                        int64\n",
       "Account Balance                      int64\n",
       "Duration of Credit (month)           int64\n",
       "Payment Status of Previous Credit    int64\n",
       "Purpose                              int64\n",
       "Credit Amount                        int64\n",
       "Value Savings/Stocks                 int64\n",
       "Length of current employment         int64\n",
       "Instalment per cent                  int64\n",
       "Sex & Marital Status                 int64\n",
       "Guarantors                           int64\n",
       "Duration in Current address          int64\n",
       "Most valuable available asset        int64\n",
       "Age (years)                          int64\n",
       "Concurrent Credits                   int64\n",
       "Type of apartment                    int64\n",
       "No of Credits at this Bank           int64\n",
       "Occupation                           int64\n",
       "No of dependents                     int64\n",
       "Telephone                            int64\n",
       "Foreign Worker                       int64\n",
       "dtype: object"
      ]
     },
     "execution_count": 4,
     "metadata": {},
     "output_type": "execute_result"
    }
   ],
   "source": [
    "credit_data.dtypes"
   ]
  },
  {
   "cell_type": "markdown",
   "metadata": {},
   "source": [
    "### Let's explore the continuous variables\n",
    "- Credit amount higher for creditable persons\n",
    "- Younger == more creditable\n",
    "- Credit duration higher for creditable persons"
   ]
  },
  {
   "cell_type": "code",
   "execution_count": 5,
   "metadata": {},
   "outputs": [
    {
     "name": "stdout",
     "output_type": "stream",
     "text": [
      "Avg Credit Amount Higher for Creditable people:\n",
      "   Creditability  Credit Amount\n",
      "0              0    3938.126667\n",
      "1              1    2985.442857\n",
      " \n",
      "Avg Age Lower for Creditable people:\n",
      "   Creditability  Age (years)\n",
      "0              0        33.96\n",
      "1              1        36.22\n",
      " \n",
      "Avg Credit Duration Higher for Creditable people:\n",
      "   Creditability  Duration of Credit (month)\n",
      "0              0                   24.860000\n",
      "1              1                   19.207143\n"
     ]
    }
   ],
   "source": [
    "# get stats of continuous variables\n",
    "\n",
    "grouped_data = credit_data.groupby('Creditability')\n",
    "print(\"Avg Credit Amount Higher for Creditable people:\")\n",
    "print(grouped_data['Credit Amount'].aggregate(np.mean).reset_index())\n",
    "\n",
    "print(\" \")\n",
    "print(\"Avg Age Lower for Creditable people:\")\n",
    "print(grouped_data['Age (years)'].aggregate(np.mean).reset_index())\n",
    "\n",
    "\n",
    "print(\" \")\n",
    "print(\"Avg Credit Duration Higher for Creditable people:\")\n",
    "print(grouped_data['Duration of Credit (month)'].aggregate(np.mean).reset_index())"
   ]
  },
  {
   "cell_type": "markdown",
   "metadata": {},
   "source": [
    "### Let's visualise the distribution of the continuous variables"
   ]
  },
  {
   "cell_type": "code",
   "execution_count": 6,
   "metadata": {},
   "outputs": [
    {
     "name": "stderr",
     "output_type": "stream",
     "text": [
      "/home/sahibachopra/miniconda/envs/ai/lib/python3.6/site-packages/scipy/stats/stats.py:1713: FutureWarning: Using a non-tuple sequence for multidimensional indexing is deprecated; use `arr[tuple(seq)]` instead of `arr[seq]`. In the future this will be interpreted as an array index, `arr[np.array(seq)]`, which will result either in an error or a different result.\n",
      "  return np.add.reduce(sorted[indexer] * weights, axis=axis) / sumval\n"
     ]
    },
    {
     "data": {
      "image/png": "[encoded data removed]",
      "text/plain": [
       "<matplotlib.figure.Figure at 0x7f07100e7358>"
      ]
     },
     "metadata": {
      "needs_background": "light"
     },
     "output_type": "display_data"
    }
   ],
   "source": [
    "f, (ax1, ax2, ax3) = plt.subplots(1, 3, figsize=(18, 4))\n",
    "plt = sns.distplot( credit_data[\"Age (years)\"] , color=\"red\", ax=ax1)\n",
    "plt2 = sns.distplot( credit_data[\"Credit Amount\"] , color=\"skyblue\", ax=ax2)\n",
    "plt3 = sns.distplot( credit_data[\"Duration of Credit (month)\"] , color=\"pink\",ax=ax3)"
   ]
  },
  {
   "cell_type": "markdown",
   "metadata": {},
   "source": [
    "### Since the continuous variables are numeric you don't really need to turn them into categorical variables. However, we'll see if splitting them into buckets changes accuracy. \n",
    "\n",
    "### We will bucket the continous variables to make them categorical"
   ]
  },
  {
   "cell_type": "code",
   "execution_count": 7,
   "metadata": {},
   "outputs": [],
   "source": [
    "lb_make = LabelEncoder()\n",
    "\n",
    "credit_data2 = credit_data.copy()\n",
    "credit_data2['AgeCat'] = pd.cut(credit_data2['Age (years)'], 4)\n",
    "credit_data2['AgeCat'] = lb_make.fit_transform(credit_data2[\"AgeCat\"].astype(str))\n",
    "\n",
    "credit_data2['CredAmtCat'] = pd.cut(credit_data2['Credit Amount'],3)\n",
    "credit_data2['CredAmtCat'] = lb_make.fit_transform(credit_data2[\"CredAmtCat\"].astype(str))\n",
    "\n",
    "credit_data2['CredDurCat'] = pd.cut(credit_data2['Duration of Credit (month)'],4)\n",
    "credit_data2['CredDurCat'] = lb_make.fit_transform(credit_data2[\"CredDurCat\"].astype(str))"
   ]
  },
  {
   "cell_type": "code",
   "execution_count": 8,
   "metadata": {},
   "outputs": [
    {
     "data": {
      "text/html": [
       "<div>\n",
       "<style scoped>\n",
       "    .dataframe tbody tr th:only-of-type {\n",
       "        vertical-align: middle;\n",
       "    }\n",
       "\n",
       "    .dataframe tbody tr th {\n",
       "        vertical-align: top;\n",
       "    }\n",
       "\n",
       "    .dataframe thead th {\n",
       "        text-align: right;\n",
       "    }\n",
       "</style>\n",
       "<table border=\"1\" class=\"dataframe\">\n",
       "  <thead>\n",
       "    <tr style=\"text-align: right;\">\n",
       "      <th></th>\n",
       "      <th>Creditability</th>\n",
       "      <th>Account Balance</th>\n",
       "      <th>Payment Status of Previous Credit</th>\n",
       "      <th>Purpose</th>\n",
       "      <th>Value Savings/Stocks</th>\n",
       "      <th>Length of current employment</th>\n",
       "      <th>Instalment per cent</th>\n",
       "      <th>Sex &amp; Marital Status</th>\n",
       "      <th>Guarantors</th>\n",
       "      <th>Duration in Current address</th>\n",
       "      <th>...</th>\n",
       "      <th>Concurrent Credits</th>\n",
       "      <th>Type of apartment</th>\n",
       "      <th>No of Credits at this Bank</th>\n",
       "      <th>Occupation</th>\n",
       "      <th>No of dependents</th>\n",
       "      <th>Telephone</th>\n",
       "      <th>Foreign Worker</th>\n",
       "      <th>AgeCat</th>\n",
       "      <th>CredAmtCat</th>\n",
       "      <th>CredDurCat</th>\n",
       "    </tr>\n",
       "  </thead>\n",
       "  <tbody>\n",
       "    <tr>\n",
       "      <th>count</th>\n",
       "      <td>1000.000000</td>\n",
       "      <td>1000.000000</td>\n",
       "      <td>1000.00000</td>\n",
       "      <td>1000.000000</td>\n",
       "      <td>1000.000000</td>\n",
       "      <td>1000.000000</td>\n",
       "      <td>1000.000000</td>\n",
       "      <td>1000.00000</td>\n",
       "      <td>1000.000000</td>\n",
       "      <td>1000.000000</td>\n",
       "      <td>...</td>\n",
       "      <td>1000.000000</td>\n",
       "      <td>1000.000000</td>\n",
       "      <td>1000.000000</td>\n",
       "      <td>1000.000000</td>\n",
       "      <td>1000.000000</td>\n",
       "      <td>1000.000000</td>\n",
       "      <td>1000.000000</td>\n",
       "      <td>1000.000000</td>\n",
       "      <td>1000.000000</td>\n",
       "      <td>1000.000000</td>\n",
       "    </tr>\n",
       "    <tr>\n",
       "      <th>mean</th>\n",
       "      <td>0.700000</td>\n",
       "      <td>2.577000</td>\n",
       "      <td>2.54500</td>\n",
       "      <td>2.828000</td>\n",
       "      <td>2.105000</td>\n",
       "      <td>3.384000</td>\n",
       "      <td>2.973000</td>\n",
       "      <td>2.68200</td>\n",
       "      <td>1.145000</td>\n",
       "      <td>2.845000</td>\n",
       "      <td>...</td>\n",
       "      <td>2.675000</td>\n",
       "      <td>1.928000</td>\n",
       "      <td>1.407000</td>\n",
       "      <td>2.904000</td>\n",
       "      <td>1.155000</td>\n",
       "      <td>1.404000</td>\n",
       "      <td>1.037000</td>\n",
       "      <td>0.673000</td>\n",
       "      <td>1.097000</td>\n",
       "      <td>0.772000</td>\n",
       "    </tr>\n",
       "    <tr>\n",
       "      <th>std</th>\n",
       "      <td>0.458487</td>\n",
       "      <td>1.257638</td>\n",
       "      <td>1.08312</td>\n",
       "      <td>2.744439</td>\n",
       "      <td>1.580023</td>\n",
       "      <td>1.208306</td>\n",
       "      <td>1.118715</td>\n",
       "      <td>0.70808</td>\n",
       "      <td>0.477706</td>\n",
       "      <td>1.103718</td>\n",
       "      <td>...</td>\n",
       "      <td>0.705601</td>\n",
       "      <td>0.530186</td>\n",
       "      <td>0.577654</td>\n",
       "      <td>0.653614</td>\n",
       "      <td>0.362086</td>\n",
       "      <td>0.490943</td>\n",
       "      <td>0.188856</td>\n",
       "      <td>0.818988</td>\n",
       "      <td>0.354566</td>\n",
       "      <td>0.637513</td>\n",
       "    </tr>\n",
       "    <tr>\n",
       "      <th>min</th>\n",
       "      <td>0.000000</td>\n",
       "      <td>1.000000</td>\n",
       "      <td>0.00000</td>\n",
       "      <td>0.000000</td>\n",
       "      <td>1.000000</td>\n",
       "      <td>1.000000</td>\n",
       "      <td>1.000000</td>\n",
       "      <td>1.00000</td>\n",
       "      <td>1.000000</td>\n",
       "      <td>1.000000</td>\n",
       "      <td>...</td>\n",
       "      <td>1.000000</td>\n",
       "      <td>1.000000</td>\n",
       "      <td>1.000000</td>\n",
       "      <td>1.000000</td>\n",
       "      <td>1.000000</td>\n",
       "      <td>1.000000</td>\n",
       "      <td>1.000000</td>\n",
       "      <td>0.000000</td>\n",
       "      <td>0.000000</td>\n",
       "      <td>0.000000</td>\n",
       "    </tr>\n",
       "    <tr>\n",
       "      <th>25%</th>\n",
       "      <td>0.000000</td>\n",
       "      <td>1.000000</td>\n",
       "      <td>2.00000</td>\n",
       "      <td>1.000000</td>\n",
       "      <td>1.000000</td>\n",
       "      <td>3.000000</td>\n",
       "      <td>2.000000</td>\n",
       "      <td>2.00000</td>\n",
       "      <td>1.000000</td>\n",
       "      <td>2.000000</td>\n",
       "      <td>...</td>\n",
       "      <td>3.000000</td>\n",
       "      <td>2.000000</td>\n",
       "      <td>1.000000</td>\n",
       "      <td>3.000000</td>\n",
       "      <td>1.000000</td>\n",
       "      <td>1.000000</td>\n",
       "      <td>1.000000</td>\n",
       "      <td>0.000000</td>\n",
       "      <td>1.000000</td>\n",
       "      <td>0.000000</td>\n",
       "    </tr>\n",
       "    <tr>\n",
       "      <th>50%</th>\n",
       "      <td>1.000000</td>\n",
       "      <td>2.000000</td>\n",
       "      <td>2.00000</td>\n",
       "      <td>2.000000</td>\n",
       "      <td>1.000000</td>\n",
       "      <td>3.000000</td>\n",
       "      <td>3.000000</td>\n",
       "      <td>3.00000</td>\n",
       "      <td>1.000000</td>\n",
       "      <td>3.000000</td>\n",
       "      <td>...</td>\n",
       "      <td>3.000000</td>\n",
       "      <td>2.000000</td>\n",
       "      <td>1.000000</td>\n",
       "      <td>3.000000</td>\n",
       "      <td>1.000000</td>\n",
       "      <td>1.000000</td>\n",
       "      <td>1.000000</td>\n",
       "      <td>0.000000</td>\n",
       "      <td>1.000000</td>\n",
       "      <td>1.000000</td>\n",
       "    </tr>\n",
       "    <tr>\n",
       "      <th>75%</th>\n",
       "      <td>1.000000</td>\n",
       "      <td>4.000000</td>\n",
       "      <td>4.00000</td>\n",
       "      <td>3.000000</td>\n",
       "      <td>3.000000</td>\n",
       "      <td>5.000000</td>\n",
       "      <td>4.000000</td>\n",
       "      <td>3.00000</td>\n",
       "      <td>1.000000</td>\n",
       "      <td>4.000000</td>\n",
       "      <td>...</td>\n",
       "      <td>3.000000</td>\n",
       "      <td>2.000000</td>\n",
       "      <td>2.000000</td>\n",
       "      <td>3.000000</td>\n",
       "      <td>1.000000</td>\n",
       "      <td>2.000000</td>\n",
       "      <td>1.000000</td>\n",
       "      <td>1.000000</td>\n",
       "      <td>1.000000</td>\n",
       "      <td>1.000000</td>\n",
       "    </tr>\n",
       "    <tr>\n",
       "      <th>max</th>\n",
       "      <td>1.000000</td>\n",
       "      <td>4.000000</td>\n",
       "      <td>4.00000</td>\n",
       "      <td>10.000000</td>\n",
       "      <td>5.000000</td>\n",
       "      <td>5.000000</td>\n",
       "      <td>4.000000</td>\n",
       "      <td>4.00000</td>\n",
       "      <td>3.000000</td>\n",
       "      <td>4.000000</td>\n",
       "      <td>...</td>\n",
       "      <td>3.000000</td>\n",
       "      <td>3.000000</td>\n",
       "      <td>4.000000</td>\n",
       "      <td>4.000000</td>\n",
       "      <td>2.000000</td>\n",
       "      <td>2.000000</td>\n",
       "      <td>2.000000</td>\n",
       "      <td>3.000000</td>\n",
       "      <td>2.000000</td>\n",
       "      <td>3.000000</td>\n",
       "    </tr>\n",
       "  </tbody>\n",
       "</table>\n",
       "<p>8 rows × 21 columns</p>\n",
       "</div>"
      ],
      "text/plain": [
       "       Creditability  Account Balance  Payment Status of Previous Credit  \\\n",
       "count    1000.000000      1000.000000                         1000.00000   \n",
       "mean        0.700000         2.577000                            2.54500   \n",
       "std         0.458487         1.257638                            1.08312   \n",
       "min         0.000000         1.000000                            0.00000   \n",
       "25%         0.000000         1.000000                            2.00000   \n",
       "50%         1.000000         2.000000                            2.00000   \n",
       "75%         1.000000         4.000000                            4.00000   \n",
       "max         1.000000         4.000000                            4.00000   \n",
       "\n",
       "           Purpose  Value Savings/Stocks  Length of current employment  \\\n",
       "count  1000.000000           1000.000000                   1000.000000   \n",
       "mean      2.828000              2.105000                      3.384000   \n",
       "std       2.744439              1.580023                      1.208306   \n",
       "min       0.000000              1.000000                      1.000000   \n",
       "25%       1.000000              1.000000                      3.000000   \n",
       "50%       2.000000              1.000000                      3.000000   \n",
       "75%       3.000000              3.000000                      5.000000   \n",
       "max      10.000000              5.000000                      5.000000   \n",
       "\n",
       "       Instalment per cent  Sex & Marital Status   Guarantors  \\\n",
       "count          1000.000000            1000.00000  1000.000000   \n",
       "mean              2.973000               2.68200     1.145000   \n",
       "std               1.118715               0.70808     0.477706   \n",
       "min               1.000000               1.00000     1.000000   \n",
       "25%               2.000000               2.00000     1.000000   \n",
       "50%               3.000000               3.00000     1.000000   \n",
       "75%               4.000000               3.00000     1.000000   \n",
       "max               4.000000               4.00000     3.000000   \n",
       "\n",
       "       Duration in Current address     ...       Concurrent Credits  \\\n",
       "count                  1000.000000     ...              1000.000000   \n",
       "mean                      2.845000     ...                 2.675000   \n",
       "std                       1.103718     ...                 0.705601   \n",
       "min                       1.000000     ...                 1.000000   \n",
       "25%                       2.000000     ...                 3.000000   \n",
       "50%                       3.000000     ...                 3.000000   \n",
       "75%                       4.000000     ...                 3.000000   \n",
       "max                       4.000000     ...                 3.000000   \n",
       "\n",
       "       Type of apartment  No of Credits at this Bank   Occupation  \\\n",
       "count        1000.000000                 1000.000000  1000.000000   \n",
       "mean            1.928000                    1.407000     2.904000   \n",
       "std             0.530186                    0.577654     0.653614   \n",
       "min             1.000000                    1.000000     1.000000   \n",
       "25%             2.000000                    1.000000     3.000000   \n",
       "50%             2.000000                    1.000000     3.000000   \n",
       "75%             2.000000                    2.000000     3.000000   \n",
       "max             3.000000                    4.000000     4.000000   \n",
       "\n",
       "       No of dependents    Telephone  Foreign Worker       AgeCat  \\\n",
       "count       1000.000000  1000.000000     1000.000000  1000.000000   \n",
       "mean           1.155000     1.404000        1.037000     0.673000   \n",
       "std            0.362086     0.490943        0.188856     0.818988   \n",
       "min            1.000000     1.000000        1.000000     0.000000   \n",
       "25%            1.000000     1.000000        1.000000     0.000000   \n",
       "50%            1.000000     1.000000        1.000000     0.000000   \n",
       "75%            1.000000     2.000000        1.000000     1.000000   \n",
       "max            2.000000     2.000000        2.000000     3.000000   \n",
       "\n",
       "        CredAmtCat   CredDurCat  \n",
       "count  1000.000000  1000.000000  \n",
       "mean      1.097000     0.772000  \n",
       "std       0.354566     0.637513  \n",
       "min       0.000000     0.000000  \n",
       "25%       1.000000     0.000000  \n",
       "50%       1.000000     1.000000  \n",
       "75%       1.000000     1.000000  \n",
       "max       2.000000     3.000000  \n",
       "\n",
       "[8 rows x 21 columns]"
      ]
     },
     "execution_count": 8,
     "metadata": {},
     "output_type": "execute_result"
    }
   ],
   "source": [
    "credit_data2 = credit_data2.drop([\"Age (years)\", \"Credit Amount\", \"Duration of Credit (month)\"], axis=1)\n",
    "credit_data2.describe()"
   ]
  },
  {
   "cell_type": "markdown",
   "metadata": {},
   "source": [
    "## Step 3: Split data into train & Validation sets 👯\n",
    "    - We will be building new features & running the models in an sklearn pipeline "
   ]
  },
  {
   "cell_type": "code",
   "execution_count": 9,
   "metadata": {},
   "outputs": [],
   "source": [
    "X = credit_data.loc[:, credit_data.columns != 'Creditability']\n",
    "y = credit_data[\"Creditability\"]\n",
    "X_train, X_validation, y_train, y_validation = train_test_split(X, y, test_size=1/3., random_state=42)"
   ]
  },
  {
   "cell_type": "code",
   "execution_count": 10,
   "metadata": {},
   "outputs": [
    {
     "name": "stdout",
     "output_type": "stream",
     "text": [
      "Train set dimesions:666.000000\n",
      "Test set dimesions:334.000000\n"
     ]
    }
   ],
   "source": [
    "print(\"Train set dimesions:%f\" % X_train.shape[0])\n",
    "print(\"Test set dimesions:%f\" % X_validation.shape[0])"
   ]
  },
  {
   "cell_type": "code",
   "execution_count": 11,
   "metadata": {},
   "outputs": [
    {
     "name": "stdout",
     "output_type": "stream",
     "text": [
      "Train set dimesions:666.000000\n",
      "Test set dimesions:334.000000\n"
     ]
    }
   ],
   "source": [
    "# Split the feature engineering data set\n",
    "\n",
    "X2 = credit_data2.loc[:, credit_data.columns != 'Creditability']\n",
    "y2 = credit_data2[\"Creditability\"]\n",
    "X2_train, X2_validation, y2_train, y2_validation = train_test_split(X, y, test_size=1/3., random_state=42)\n",
    "print(\"Train set dimesions:%f\" % X2_train.shape[0])\n",
    "print(\"Test set dimesions:%f\" % X2_validation.shape[0])"
   ]
  },
  {
   "cell_type": "markdown",
   "metadata": {},
   "source": [
    "## Step 4: Build the models 👩‍🔬\n",
    "- Logistic Regression w/o feature engineering\n",
    "- Logistic Regression w/ feature engineering\n",
    "- Random Forest w/o Grid Search \n",
    "- Random Forest w/ Grid Search"
   ]
  },
  {
   "cell_type": "code",
   "execution_count": 12,
   "metadata": {},
   "outputs": [],
   "source": [
    "## function to select the columns\n",
    "\n",
    "class ColumnSelector(BaseEstimator, TransformerMixin):\n",
    "    def __init__(self, columns):\n",
    "        self.columns = columns\n",
    "\n",
    "    def fit(self, X, y=None):\n",
    "        return self\n",
    "\n",
    "    def transform(self, X):\n",
    "        assert isinstance(X, pd.DataFrame)\n",
    "\n",
    "        try:\n",
    "            return X[self.columns]\n",
    "        except KeyError:\n",
    "            cols_error = list(set(self.columns) - set(X.columns))\n",
    "            raise KeyError(\"The DataFrame does not include the columns: %s\" % cols_error)"
   ]
  },
  {
   "cell_type": "markdown",
   "metadata": {},
   "source": [
    "### Logistic regression w/o feature engineering of continuous variables"
   ]
  },
  {
   "cell_type": "code",
   "execution_count": 13,
   "metadata": {},
   "outputs": [
    {
     "data": {
      "text/plain": [
       "0.7335329341317365"
      ]
     },
     "execution_count": 13,
     "metadata": {},
     "output_type": "execute_result"
    }
   ],
   "source": [
    "pipeline = Pipeline(steps = [\n",
    "        (\"features\", make_union(\n",
    "                ColumnSelector(list(X)),\n",
    "                )),\n",
    "                (\"model\",LogisticRegression(random_state=42))\n",
    "])\n",
    "\n",
    "pipeline.fit(X_train, y_train)\n",
    "\n",
    "pipeline.score(X_validation, y_validation)"
   ]
  },
  {
   "cell_type": "markdown",
   "metadata": {},
   "source": [
    "### Logistic regression w/ feature engineering of all continuous variables"
   ]
  },
  {
   "cell_type": "code",
   "execution_count": 14,
   "metadata": {},
   "outputs": [
    {
     "data": {
      "text/plain": [
       "0.7335329341317365"
      ]
     },
     "execution_count": 14,
     "metadata": {},
     "output_type": "execute_result"
    }
   ],
   "source": [
    "pipeline = Pipeline(steps = [\n",
    "        (\"features\", make_union(\n",
    "                ColumnSelector(list(X)),\n",
    "                )),\n",
    "                (\"model\",LogisticRegression(random_state=42))\n",
    "])\n",
    "\n",
    "pipeline.fit(X2_train, y2_train)\n",
    "\n",
    "pipeline.score(X2_validation, y2_validation)"
   ]
  },
  {
   "cell_type": "markdown",
   "metadata": {},
   "source": [
    "### Random Forest w/o feature engineering, w/ and w/o hyper parameter tuning"
   ]
  },
  {
   "cell_type": "code",
   "execution_count": 15,
   "metadata": {},
   "outputs": [
    {
     "name": "stdout",
     "output_type": "stream",
     "text": [
      "RF Score before CV: 0.7215568862275449\n",
      "RF Score after CV: 0.7604790419161677\n"
     ]
    }
   ],
   "source": [
    "pipeline = Pipeline(steps = [\n",
    "        (\"features\", make_union(\n",
    "                ColumnSelector(list(X)),\n",
    "                )),\n",
    "                (\"model\",RandomForestClassifier(random_state=42))\n",
    "])\n",
    "\n",
    "pipeline.fit(X_train, y_train)\n",
    "\n",
    "pipeline.score(X_validation, y_validation)\n",
    "\n",
    "print(\"RF Score before CV: %s\" % pipeline.score(X_validation, y_validation))\n",
    "\n",
    "# get list of hyperparameters\n",
    "\n",
    "hyperparameters = { 'model__max_depth': [50, 70,90],\n",
    "                    'model__min_samples_leaf': [1,2,3]\n",
    "                  }\n",
    "\n",
    "clf = GridSearchCV(pipeline, hyperparameters, cv=5)\n",
    "\n",
    "clf.fit(X_train, y_train)\n",
    "\n",
    "print(\"RF Score after CV: %s\" % clf.score(X_validation, y_validation))"
   ]
  },
  {
   "cell_type": "code",
   "execution_count": 16,
   "metadata": {},
   "outputs": [
    {
     "name": "stdout",
     "output_type": "stream",
     "text": [
      "dict_keys(['memory', 'steps', 'features', 'model', 'features__n_jobs', 'features__transformer_list', 'features__transformer_weights', 'features__columnselector', 'features__columnselector__columns', 'model__bootstrap', 'model__class_weight', 'model__criterion', 'model__max_depth', 'model__max_features', 'model__max_leaf_nodes', 'model__min_impurity_decrease', 'model__min_impurity_split', 'model__min_samples_leaf', 'model__min_samples_split', 'model__min_weight_fraction_leaf', 'model__n_estimators', 'model__n_jobs', 'model__oob_score', 'model__random_state', 'model__verbose', 'model__warm_start'])\n"
     ]
    }
   ],
   "source": [
    "# here's the list of hyperparameters\n",
    "\n",
    "print(pipeline.get_params().keys())"
   ]
  },
  {
   "cell_type": "markdown",
   "metadata": {},
   "source": [
    "### Random Forest w/ feature engineering, w/ and w/o hyper parameter tuning"
   ]
  },
  {
   "cell_type": "code",
   "execution_count": 17,
   "metadata": {},
   "outputs": [
    {
     "name": "stdout",
     "output_type": "stream",
     "text": [
      "RF Score before CV: 0.7215568862275449\n",
      "RF Score after CV: 0.7604790419161677\n"
     ]
    }
   ],
   "source": [
    "pipeline = Pipeline(steps = [\n",
    "        (\"features\", make_union(\n",
    "                ColumnSelector(list(X)),\n",
    "                )),\n",
    "                (\"model\",RandomForestClassifier(random_state=42))\n",
    "])\n",
    "\n",
    "pipeline.fit(X2_train, y2_train)\n",
    "\n",
    "pipeline.score(X2_validation, y2_validation)\n",
    "\n",
    "print(\"RF Score before CV: %s\" % pipeline.score(X2_validation, y2_validation))\n",
    "\n",
    "hyperparameters = { 'model__max_depth': [50, 70,90],\n",
    "                    'model__min_samples_leaf': [1,2,3]\n",
    "                  }\n",
    "\n",
    "clf = GridSearchCV(pipeline, hyperparameters, cv=5)\n",
    "\n",
    "clf.fit(X2_train, y2_train)\n",
    "\n",
    "print(\"RF Score after CV: %s\" % clf.score(X2_validation, y2_validation))"
   ]
  },
  {
   "cell_type": "markdown",
   "metadata": {},
   "source": [
    "## Step 5: Pick the best model 🏆\n",
    "- **Best performing model:** Random Forest with hyperparameter tuning\n",
    "- **Note:** Bucketing continuous variables to make them categorical did not improve model accuracy"
   ]
  },
  {
   "cell_type": "markdown",
   "metadata": {},
   "source": [
    "## Next steps 😎\n",
    "\n",
    "- Tune some more hyperparameters\n",
    "- Build some other models: gradient boosting, catboost etc\n",
    "- Create more features by joining 2/2+ variables "
   ]
  },
  {
   "cell_type": "markdown",
   "metadata": {},
   "source": [
    "## Resources 📇\n",
    "- [A Deep Dive Into Sklearn Pipelines](https://www.kaggle.com/baghern/a-deep-dive-into-sklearn-pipelines)\n",
    "- [Understanding Logistic Regression](https://towardsdatascience.com/understanding-logistic-regression-9b02c2aec102)\n",
    "- [Random Forest Simple Explanation](https://medium.com/@williamkoehrsen/random-forest-simple-explanation-377895a60d2d)\n",
    "- [10-fold Cross Validation](https://www.openml.org/a/estimation-procedures/1)\n",
    "- [Hyperparameters and Tuning Strategies for Random Forest](https://arxiv.org/abs/1804.03515)"
   ]
  },
  {
   "cell_type": "markdown",
   "metadata": {},
   "source": [
    "# Thank you!! 🐱\n",
    "- Add me on [LinkedIn](https://www.linkedin.com/in/sahiba-chopra-3762124a/?originalSubdomain=in)\n",
    "- Find out more about me & my projects on my [blog](https://sahibachopra.com/)\n"
   ]
  }
 ],
 "metadata": {
  "anaconda-cloud": {},
  "kernelspec": {
   "display_name": "Python 3",
   "language": "python",
   "name": "python3"
  },
  "language_info": {
   "codemirror_mode": {
    "name": "ipython",
    "version": 3
   },
   "file_extension": ".py",
   "mimetype": "text/x-python",
   "name": "python",
   "nbconvert_exporter": "python",
   "pygments_lexer": "ipython3",
   "version": "3.6.0"
  }
 },
 "nbformat": 4,
 "nbformat_minor": 1
}
